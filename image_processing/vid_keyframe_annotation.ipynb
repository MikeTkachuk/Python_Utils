{
 "cells": [
  {
   "cell_type": "code",
   "execution_count": 104,
   "id": "0086d4ed",
   "metadata": {},
   "outputs": [],
   "source": [
    "from IPython.display import display\n",
    "\n",
    "from ipywidgets import Button, Image, interact, interact_manual, TwoByTwoLayout, FloatText, Label, HBox\n",
    "\n",
    "import cv2 as cv\n",
    "import PIL.Image\n",
    "import io\n",
    "import numpy as np\n",
    "import json\n",
    "import os\n",
    "\n",
    "INTERVAL = 10\n",
    "VID_PATH = r\"C:\\Users\\Mykhailo_Tkachuk\\Downloads\\v1_standing.mp4\"\n",
    "OUTPUT_PATH = r\"C:\\Users\\Mykhailo_Tkachuk\\Downloads\""
   ]
  },
  {
   "cell_type": "code",
   "execution_count": 105,
   "id": "34871cab",
   "metadata": {
    "scrolled": true
   },
   "outputs": [],
   "source": [
    "def slide(cap, forward=True, n=INTERVAL):\n",
    "    if forward:\n",
    "        if slide.frame_cursor + n < cap.get(cv.CAP_PROP_FRAME_COUNT):\n",
    "            slide.frame_cursor += n\n",
    "    else:\n",
    "        if slide.frame_cursor > 0:\n",
    "            slide.frame_cursor -= n\n",
    "    if slide.frame_cursor > cap.get(cv.CAP_PROP_POS_FRAMES):\n",
    "        while slide.frame_cursor != cap.get(cv.CAP_PROP_POS_FRAMES):\n",
    "            _ = cap.read()\n",
    "    if slide.frame_cursor == cap.get(cv.CAP_PROP_POS_FRAMES):\n",
    "        ret, frame = cap.read()\n",
    "        if not ret:\n",
    "            frame = None\n",
    "        slide.frames_cache.append(frame)\n",
    "    else:\n",
    "        frame = slide.frames_cache[slide.frame_cursor//n]  \n",
    "        \n",
    "    return cv.cvtColor(frame, cv.COLOR_BGR2RGB)\n",
    "slide.frame_cursor = 0\n",
    "slide.frames_cache = []"
   ]
  },
  {
   "cell_type": "code",
   "execution_count": 106,
   "id": "fb609fe9",
   "metadata": {},
   "outputs": [],
   "source": [
    "def compress_to_bytes(data, fmt='png'):\n",
    "    \"\"\"\n",
    "    Helper function to compress image data via PIL/Pillow.\n",
    "    \"\"\"\n",
    "    buff = io.BytesIO()\n",
    "    img = PIL.Image.fromarray(data)    \n",
    "    img.save(buff, format=fmt)\n",
    "    \n",
    "    return buff.getvalue()"
   ]
  },
  {
   "cell_type": "code",
   "execution_count": 107,
   "id": "79ae04ee",
   "metadata": {},
   "outputs": [
    {
     "data": {
      "application/vnd.jupyter.widget-view+json": {
       "model_id": "f9289b9a00d046bb9190c335aaf6b156",
       "version_major": 2,
       "version_minor": 0
      },
      "text/plain": [
       "Image(value=b'\\x89PNG\\r\\n\\x1a\\n\\x00\\x00\\x00\\rIHDR\\x00\\x00\\x07\\x80\\x00\\x00\\x048\\x08\\x02\\x00\\x00\\x00g\\xb1V\\x14\\x…"
      ]
     },
     "metadata": {},
     "output_type": "display_data"
    },
    {
     "data": {
      "application/vnd.jupyter.widget-view+json": {
       "model_id": "239bbe6f916145f28e7509deb8fdc0e0",
       "version_major": 2,
       "version_minor": 0
      },
      "text/plain": [
       "TwoByTwoLayout(children=(Button(description='Back', layout=Layout(grid_area='top-left'), style=ButtonStyle()),…"
      ]
     },
     "metadata": {},
     "output_type": "display_data"
    }
   ],
   "source": [
    "cap = cv.VideoCapture(VID_PATH)\n",
    "slide.frame_cursor = -INTERVAL\n",
    "slide.frames_cache = []\n",
    "\n",
    "canvas = Image(value=compress_to_bytes(slide(cap)))\n",
    "\n",
    "def render(b, cap, canvas_=canvas, forward=True, n=INTERVAL):\n",
    "    canvas_.value = compress_to_bytes(slide(cap, forward=forward, n=n))\n",
    "    current.value = f'cursor at: {slide.frame_cursor}'\n",
    "    \n",
    "try:\n",
    "    with open(os.path.join(OUTPUT_PATH, 'checkpoint.json')) as f:\n",
    "        annotations = json.load(f)\n",
    "except:\n",
    "    annotations = {}\n",
    "    \n",
    "def annotate(b):\n",
    "    annotations[str(slide.frame_cursor)] = val.value\n",
    "    with open(os.path.join(OUTPUT_PATH, 'checkpoint.json'), 'w') as f:\n",
    "        json.dump(annotations, f)\n",
    "\n",
    "r = Button(description='Forward')\n",
    "r.on_click(lambda x: render(x, cap))\n",
    "l = Button(description='Back')\n",
    "l.on_click(lambda x: render(x, cap, forward=False))\n",
    "val = FloatText(val=0)\n",
    "confirm = Button(description='Set')\n",
    "confirm.on_click(annotate)\n",
    "current = Label(value=f'cursor at: {slide.frame_cursor}')\n",
    "layout = TwoByTwoLayout(top_left=l,\n",
    "                        top_right=r,\n",
    "               bottom_left=HBox([val, confirm]),\n",
    "               bottom_right=current)\n",
    "\n",
    "display(canvas)\n",
    "display(layout)"
   ]
  },
  {
   "cell_type": "code",
   "execution_count": 117,
   "id": "384f771b",
   "metadata": {},
   "outputs": [],
   "source": [
    "with open(os.path.join(OUTPUT_PATH, 'checkpoint.json')) as f:\n",
    "    annotations = json.load(f)\n",
    "keys = sorted(list(annotations.keys()), key=lambda x: int(x))\n",
    "\n",
    "with open(os.path.join(OUTPUT_PATH,'default.txt'),'w') as f:\n",
    "    for i in range(1,len(keys)):\n",
    "        dst_interpolation = np.linspace(annotations[keys[i-1]], annotations[keys[i]], int(keys[i]) - int(keys[i-1])+1)\n",
    "        for frame, dst in zip(range(int(keys[i-1]),int(keys[i])),dst_interpolation):\n",
    "            f.write(f'{frame} {dst:.1f} 1\\n')"
   ]
  },
  {
   "cell_type": "code",
   "execution_count": 118,
   "id": "9fe8619f",
   "metadata": {},
   "outputs": [
    {
     "data": {
      "text/plain": [
       "[<matplotlib.lines.Line2D at 0x1b6934fceb0>]"
      ]
     },
     "execution_count": 118,
     "metadata": {},
     "output_type": "execute_result"
    },
    {
     "data": {
      "image/png": "[encoded data removed]",
      "text/plain": [
       "<Figure size 432x288 with 1 Axes>"
      ]
     },
     "metadata": {
      "needs_background": "light"
     },
     "output_type": "display_data"
    }
   ],
   "source": [
    "import matplotlib.pyplot as plt\n",
    "plt.plot([int(k) for k in keys], [annotations[k] for k in keys])"
   ]
  }
 ],
 "metadata": {
  "kernelspec": {
   "display_name": "Python 3 (ipykernel)",
   "language": "python",
   "name": "python3"
  },
  "language_info": {
   "codemirror_mode": {
    "name": "ipython",
    "version": 3
   },
   "file_extension": ".py",
   "mimetype": "text/x-python",
   "name": "python",
   "nbconvert_exporter": "python",
   "pygments_lexer": "ipython3",
   "version": "3.9.7"
  }
 },
 "nbformat": 4,
 "nbformat_minor": 5
}
